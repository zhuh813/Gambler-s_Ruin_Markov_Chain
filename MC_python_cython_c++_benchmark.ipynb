{
 "cells": [
  {
   "cell_type": "code",
   "execution_count": 11,
   "id": "5bc03caf",
   "metadata": {},
   "outputs": [],
   "source": [
    "import numpy as np, random\n",
    "from typing import Tuple\n",
    "import time\n",
    "import matplotlib.pyplot as plt"
   ]
  },
  {
   "cell_type": "code",
   "execution_count": null,
   "id": "d4edfd40",
   "metadata": {},
   "outputs": [],
   "source": []
  },
  {
   "cell_type": "markdown",
   "id": "c38318ec",
   "metadata": {},
   "source": [
    "### python 版本的monte carlo"
   ]
  },
  {
   "cell_type": "code",
   "execution_count": 2,
   "id": "735d650b",
   "metadata": {},
   "outputs": [],
   "source": [
    "def mc_simulate_ruin(i: int, m: int, p: float, trials: int) -> Tuple[float, float, np.ndarray, np.ndarray]:\n",
    "    \"\"\"\n",
    "    同時回傳\n",
    "      1) 破產率 ruin_rate\n",
    "      2) 平均步數 avg_steps\n",
    "      3) 每次遊戲持續步數 durations (長度=trials)\n",
    "      4) 每次是否破產旗標 ruin_flags (長度=trials)\n",
    "    \"\"\"\n",
    "    durations  = np.zeros(trials, dtype=int)\n",
    "    ruin_flags = np.zeros(trials, dtype=int)\n",
    "    ruin_count = 0\n",
    "    total_steps = 0\n",
    "\n",
    "    for t in range(trials):\n",
    "        k, steps = i, 0\n",
    "        # 模擬一條路徑\n",
    "        while 0 < k < m:\n",
    "            if random.random() < p:\n",
    "                k += 1\n",
    "            else:\n",
    "                k -= 1\n",
    "            steps += 1\n",
    "\n",
    "        durations[t]  = steps\n",
    "        ruin_flags[t] = int(k == 0)\n",
    "\n",
    "        if k == 0:\n",
    "            ruin_count += 1\n",
    "        total_steps += steps\n",
    "\n",
    "    ruin_rate = ruin_count / trials\n",
    "    avg_steps = total_steps / trials\n",
    "\n",
    "    return ruin_rate, avg_steps"
   ]
  },
  {
   "cell_type": "code",
   "execution_count": null,
   "id": "fc943f88",
   "metadata": {},
   "outputs": [],
   "source": []
  },
  {
   "cell_type": "markdown",
   "id": "bc9fe98a",
   "metadata": {},
   "source": [
    "### Cython 版本的monte carlo"
   ]
  },
  {
   "cell_type": "code",
   "execution_count": 3,
   "id": "328927d2",
   "metadata": {},
   "outputs": [],
   "source": [
    "# 在 Jupyter Notebook 中撰寫 Cython 版 simulate_ruin\n",
    "# 1. 載入 Cython Magic\n",
    "%load_ext cython"
   ]
  },
  {
   "cell_type": "code",
   "execution_count": 4,
   "id": "f9f9882e",
   "metadata": {},
   "outputs": [],
   "source": [
    "%%cython\n",
    "# cython: boundscheck=False, wraparound=False\n",
    "import random\n",
    "cimport cython\n",
    "from libc.stdlib cimport rand, RAND_MAX\n",
    "\n",
    "@cython.boundscheck(False)\n",
    "def mc_simulate_ruin_cy(int i, int m, double p, int trials):\n",
    "    \"\"\"\n",
    "    Cython 優化的 Monte Carlo 模擬 Gambler's Ruin\n",
    "    返回 (破產機率, 平均步數)\n",
    "    \"\"\"\n",
    "    cdef int ruin_count = 0\n",
    "    cdef long total_steps = 0\n",
    "    cdef int t, k, steps\n",
    "    cdef double r\n",
    "    for t in range(trials):\n",
    "        k = i\n",
    "        steps = 0\n",
    "        while 0 < k < m:\n",
    "            # 用 C rand() 加速隨機抽樣\n",
    "            r = rand() / <double>RAND_MAX\n",
    "            if r < p:\n",
    "                k += 1\n",
    "            else:\n",
    "                k -= 1\n",
    "            steps += 1\n",
    "        if k == 0:\n",
    "            ruin_count += 1\n",
    "        total_steps += steps\n",
    "    return ruin_count / trials, total_steps / trials"
   ]
  },
  {
   "cell_type": "code",
   "execution_count": null,
   "id": "abc546b2",
   "metadata": {},
   "outputs": [],
   "source": []
  },
  {
   "cell_type": "markdown",
   "id": "d3b18394",
   "metadata": {},
   "source": [
    "### C++ 版本的monte carlo"
   ]
  },
  {
   "cell_type": "code",
   "execution_count": 5,
   "id": "6f504594",
   "metadata": {},
   "outputs": [],
   "source": [
    "import c_monte"
   ]
  },
  {
   "cell_type": "code",
   "execution_count": null,
   "id": "6f67cc0f",
   "metadata": {},
   "outputs": [],
   "source": []
  },
  {
   "cell_type": "code",
   "execution_count": 6,
   "id": "7580ea74",
   "metadata": {},
   "outputs": [],
   "source": [
    "# 測試參數\n",
    "i, m, p, trials = 10, 100, 0.48, 100_000"
   ]
  },
  {
   "cell_type": "code",
   "execution_count": 7,
   "id": "67f588b6",
   "metadata": {},
   "outputs": [
    {
     "name": "stdout",
     "output_type": "stream",
     "text": [
      "破產率=0.9995, 平均步數=249.0, 平均RTP=0.0005\n"
     ]
    }
   ],
   "source": [
    "# 計時開始\n",
    "start = time.time()\n",
    "ruin_rate, avg_steps, avg_rtp = c_monte.monte_carlo_sim(i, m, p, trials)\n",
    "cpp_time = time.time() - start\n",
    "\n",
    "print(f\"破產率={ruin_rate:.4f}, 平均步數={avg_steps:.1f}, 平均RTP={avg_rtp:.4f}\")"
   ]
  },
  {
   "cell_type": "code",
   "execution_count": 8,
   "id": "4ca68210",
   "metadata": {},
   "outputs": [],
   "source": [
    "# 純 Python\n",
    "start = time.time()\n",
    "r_py, d_py = mc_simulate_ruin(i, m, p, trials)\n",
    "py_time = time.time() - start\n",
    "\n",
    "# Cython\n",
    "start = time.time()\n",
    "r_cy, d_cy = mc_simulate_ruin_cy(i, m, p, trials)\n",
    "cy_time = time.time() - start"
   ]
  },
  {
   "cell_type": "code",
   "execution_count": 9,
   "id": "c9832859",
   "metadata": {},
   "outputs": [
    {
     "name": "stdout",
     "output_type": "stream",
     "text": [
      "純 Python: 6.128s, 破產率=0.9995, 平均步數=249.0\n",
      "Cython:    0.495s, 破產率=0.9995, 平均步數=248.8\n",
      "C++:       0.133s, 破產率=0.9995, 平均步數=249.0\n",
      "加速比 (C++/Python): 46.1×\n"
     ]
    }
   ],
   "source": [
    "# C++ (前面已跑過 cpp_time)\n",
    "print(f\"純 Python: {py_time:.3f}s, 破產率={r_py:.4f}, 平均步數={d_py:.1f}\")\n",
    "print(f\"Cython:    {cy_time:.3f}s, 破產率={r_cy:.4f}, 平均步數={d_cy:.1f}\")\n",
    "print(f\"C++:       {cpp_time:.3f}s, 破產率={ruin_rate:.4f}, 平均步數={avg_steps:.1f}\")\n",
    "print(f\"加速比 (C++/Python): {py_time/cpp_time:.1f}×\")"
   ]
  },
  {
   "cell_type": "code",
   "execution_count": null,
   "id": "f13b05e2",
   "metadata": {},
   "outputs": [],
   "source": []
  },
  {
   "cell_type": "code",
   "execution_count": 12,
   "id": "14b80ad3",
   "metadata": {},
   "outputs": [
    {
     "data": {
      "image/png": "[encoded data removed]",
      "text/plain": [
       "<Figure size 640x480 with 1 Axes>"
      ]
     },
     "metadata": {},
     "output_type": "display_data"
    }
   ],
   "source": [
    "plt.rcParams['font.sans-serif'] = ['Taipei Sans TC Beta']\n",
    "\n",
    "methods = ['Python', 'Cython', 'C++']\n",
    "times = [6.128, 0.495, 0.133]\n",
    "\n",
    "plt.barh(methods, times)\n",
    "plt.xlabel(\"執行時間 (秒)\")\n",
    "plt.title(\"不同實作方式的執行時間比較\")\n",
    "plt.gca().invert_yaxis()\n",
    "plt.show()"
   ]
  },
  {
   "cell_type": "code",
   "execution_count": null,
   "id": "c9e787e2",
   "metadata": {},
   "outputs": [],
   "source": []
  }
 ],
 "metadata": {
  "kernelspec": {
   "display_name": "Python 3 (ipykernel)",
   "language": "python",
   "name": "python3"
  },
  "language_info": {
   "codemirror_mode": {
    "name": "ipython",
    "version": 3
   },
   "file_extension": ".py",
   "mimetype": "text/x-python",
   "name": "python",
   "nbconvert_exporter": "python",
   "pygments_lexer": "ipython3",
   "version": "3.11.5"
  }
 },
 "nbformat": 4,
 "nbformat_minor": 5
}
